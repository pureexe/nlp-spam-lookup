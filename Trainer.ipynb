{
 "cells": [
  {
   "cell_type": "code",
   "execution_count": 30,
   "metadata": {},
   "outputs": [],
   "source": [
    "import os,nltk,time\n",
    "from random import shuffle\n",
    "import numpy as np"
   ]
  },
  {
   "cell_type": "code",
   "execution_count": 168,
   "metadata": {},
   "outputs": [],
   "source": [
    "def read_folder(folder):\n",
    "    path = os.path.join(os.getcwd(),folder)\n",
    "    files = next(os.walk(path))\n",
    "    dataset = []\n",
    "    for file in files[2]:\n",
    "        filePtr = open(files[0]+\"\\\\\"+file,'r')\n",
    "        infomation = filePtr.readlines()\n",
    "        filePtr.close()\n",
    "        label = 0\n",
    "        if file.startswith('spmsg'):\n",
    "            label = 1\n",
    "        subject = (infomation[0][9:]).strip()\n",
    "        content = '\\n'.join([text.strip() for text in infomation[2:]])\n",
    "        dataset.append((subject,content,label))\n",
    "    return dataset"
   ]
  },
  {
   "cell_type": "code",
   "execution_count": 169,
   "metadata": {},
   "outputs": [],
   "source": [
    "train_mail = read_folder('train-mails')\n",
    "shuffle(train_mail)"
   ]
  },
  {
   "cell_type": "code",
   "execution_count": 170,
   "metadata": {},
   "outputs": [],
   "source": [
    "test_mail = read_folder('test-mails')"
   ]
  },
  {
   "cell_type": "code",
   "execution_count": 171,
   "metadata": {},
   "outputs": [],
   "source": [
    "def feature(mail):\n",
    "    features = {}\n",
    "    subject = nltk.word_tokenize(mail[0])\n",
    "    for word in subject:\n",
    "        if 'subject_contain({})'.format(word) in features:\n",
    "            features['subject_contain({})'.format(word)] += 1\n",
    "        else:\n",
    "            features['subject_contain({})'.format(word)] = 1\n",
    "    content = nltk.word_tokenize(mail[1])\n",
    "    for word in content:\n",
    "        if word == '(' or word == ')' or word == 'word' or word == 'stop' or word == 'water':\n",
    "            continue\n",
    "        if 'content_contain({})'.format(word) in features:\n",
    "            features['content_contain({})'.format(word)] += 1\n",
    "        else:\n",
    "            features['content_contain({})'.format(word)] = 1\n",
    "    return features"
   ]
  },
  {
   "cell_type": "code",
   "execution_count": 172,
   "metadata": {},
   "outputs": [],
   "source": [
    "feature_set = [(feature(mail),mail[2]) for mail in train_mail]\n",
    "train_set = feature_set[:600]\n",
    "dev_set = feature_set[600:]"
   ]
  },
  {
   "cell_type": "code",
   "execution_count": 173,
   "metadata": {},
   "outputs": [],
   "source": [
    "classifier = nltk.NaiveBayesClassifier.train(train_set)"
   ]
  },
  {
   "cell_type": "code",
   "execution_count": 174,
   "metadata": {},
   "outputs": [
    {
     "name": "stdout",
     "output_type": "stream",
     "text": [
      "dev_set accurency 1.0\n"
     ]
    }
   ],
   "source": [
    "print(\"dev_set accurency\",nltk.classify.accuracy(classifier, dev_set))"
   ]
  },
  {
   "cell_type": "code",
   "execution_count": 167,
   "metadata": {},
   "outputs": [
    {
     "name": "stdout",
     "output_type": "stream",
     "text": [
      "test_set accurency 0.9884615384615385\n"
     ]
    }
   ],
   "source": [
    "test_set = [(feature(mail),mail[2]) for mail in test_mail]\n",
    "print(\"test_set accurency\",nltk.classify.accuracy(classifier, test_set))"
   ]
  }
 ],
 "metadata": {
  "kernelspec": {
   "display_name": "Python 3",
   "language": "python",
   "name": "python3"
  },
  "language_info": {
   "codemirror_mode": {
    "name": "ipython",
    "version": 3
   },
   "file_extension": ".py",
   "mimetype": "text/x-python",
   "name": "python",
   "nbconvert_exporter": "python",
   "pygments_lexer": "ipython3",
   "version": "3.6.2"
  }
 },
 "nbformat": 4,
 "nbformat_minor": 2
}
